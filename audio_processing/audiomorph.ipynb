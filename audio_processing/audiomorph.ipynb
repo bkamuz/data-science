{
 "cells": [
  {
   "cell_type": "code",
   "execution_count": 1,
   "metadata": {},
   "outputs": [
    {
     "name": "stdout",
     "output_type": "stream",
     "text": [
      "Requirement already satisfied: librosa in /usr/local/python/3.10.4/lib/python3.10/site-packages (0.9.2)\n",
      "Requirement already satisfied: scikit-learn>=0.19.1 in /home/codespace/.local/lib/python3.10/site-packages (from librosa) (1.2.1)\n",
      "Requirement already satisfied: numpy>=1.17.0 in /usr/local/python/3.10.4/lib/python3.10/site-packages (from librosa) (1.22.4)\n",
      "Requirement already satisfied: joblib>=0.14 in /home/codespace/.local/lib/python3.10/site-packages (from librosa) (1.2.0)\n",
      "Requirement already satisfied: soundfile>=0.10.2 in /usr/local/python/3.10.4/lib/python3.10/site-packages (from librosa) (0.11.0)\n",
      "Requirement already satisfied: pooch>=1.0 in /usr/local/python/3.10.4/lib/python3.10/site-packages (from librosa) (1.6.0)\n",
      "Requirement already satisfied: packaging>=20.0 in /home/codespace/.local/lib/python3.10/site-packages (from librosa) (23.0)\n",
      "Requirement already satisfied: numba>=0.45.1 in /usr/local/python/3.10.4/lib/python3.10/site-packages (from librosa) (0.56.4)\n",
      "Requirement already satisfied: resampy>=0.2.2 in /usr/local/python/3.10.4/lib/python3.10/site-packages (from librosa) (0.4.2)\n",
      "Requirement already satisfied: scipy>=1.2.0 in /home/codespace/.local/lib/python3.10/site-packages (from librosa) (1.10.0)\n",
      "Requirement already satisfied: audioread>=2.1.9 in /usr/local/python/3.10.4/lib/python3.10/site-packages (from librosa) (3.0.0)\n",
      "Requirement already satisfied: decorator>=4.0.10 in /home/codespace/.local/lib/python3.10/site-packages (from librosa) (5.1.1)\n",
      "Requirement already satisfied: llvmlite<0.40,>=0.39.0dev0 in /usr/local/python/3.10.4/lib/python3.10/site-packages (from numba>=0.45.1->librosa) (0.39.1)\n",
      "Requirement already satisfied: setuptools in /usr/local/python/3.10.4/lib/python3.10/site-packages (from numba>=0.45.1->librosa) (58.1.0)\n",
      "Requirement already satisfied: requests>=2.19.0 in /home/codespace/.local/lib/python3.10/site-packages (from pooch>=1.0->librosa) (2.28.2)\n",
      "Requirement already satisfied: appdirs>=1.3.0 in /usr/local/python/3.10.4/lib/python3.10/site-packages (from pooch>=1.0->librosa) (1.4.4)\n",
      "Requirement already satisfied: threadpoolctl>=2.0.0 in /home/codespace/.local/lib/python3.10/site-packages (from scikit-learn>=0.19.1->librosa) (3.1.0)\n",
      "Requirement already satisfied: cffi>=1.0 in /home/codespace/.local/lib/python3.10/site-packages (from soundfile>=0.10.2->librosa) (1.15.1)\n",
      "Requirement already satisfied: pycparser in /home/codespace/.local/lib/python3.10/site-packages (from cffi>=1.0->soundfile>=0.10.2->librosa) (2.21)\n",
      "Requirement already satisfied: urllib3<1.27,>=1.21.1 in /home/codespace/.local/lib/python3.10/site-packages (from requests>=2.19.0->pooch>=1.0->librosa) (1.26.14)\n",
      "Requirement already satisfied: charset-normalizer<4,>=2 in /home/codespace/.local/lib/python3.10/site-packages (from requests>=2.19.0->pooch>=1.0->librosa) (3.0.1)\n",
      "Requirement already satisfied: certifi>=2017.4.17 in /home/codespace/.local/lib/python3.10/site-packages (from requests>=2.19.0->pooch>=1.0->librosa) (2022.12.7)\n",
      "Requirement already satisfied: idna<4,>=2.5 in /home/codespace/.local/lib/python3.10/site-packages (from requests>=2.19.0->pooch>=1.0->librosa) (3.4)\n"
     ]
    }
   ],
   "source": [
    "!pip install librosa"
   ]
  },
  {
   "cell_type": "code",
   "execution_count": 2,
   "metadata": {},
   "outputs": [
    {
     "ename": "OSError",
     "evalue": "cannot load library 'libsndfile.so': libsndfile.so: cannot open shared object file: No such file or directory",
     "output_type": "error",
     "traceback": [
      "\u001b[0;31m---------------------------------------------------------------------------\u001b[0m",
      "\u001b[0;31mOSError\u001b[0m                                   Traceback (most recent call last)",
      "File \u001b[0;32m~/.python/current/lib/python3.10/site-packages/soundfile.py:151\u001b[0m\n\u001b[1;32m    150\u001b[0m \u001b[39mif\u001b[39;00m _libname \u001b[39mis\u001b[39;00m \u001b[39mNone\u001b[39;00m:\n\u001b[0;32m--> 151\u001b[0m     \u001b[39mraise\u001b[39;00m \u001b[39mOSError\u001b[39;00m(\u001b[39m'\u001b[39m\u001b[39msndfile library not found\u001b[39m\u001b[39m'\u001b[39m)\n\u001b[1;32m    152\u001b[0m _snd \u001b[39m=\u001b[39m _ffi\u001b[39m.\u001b[39mdlopen(_libname)\n",
      "\u001b[0;31mOSError\u001b[0m: sndfile library not found",
      "\nDuring handling of the above exception, another exception occurred:\n",
      "\u001b[0;31mOSError\u001b[0m                                   Traceback (most recent call last)",
      "File \u001b[0;32m~/.python/current/lib/python3.10/site-packages/soundfile.py:178\u001b[0m\n\u001b[1;32m    177\u001b[0m \u001b[39mtry\u001b[39;00m:  \u001b[39m# packaged libsndfile:\u001b[39;00m\n\u001b[0;32m--> 178\u001b[0m     _snd \u001b[39m=\u001b[39m _ffi\u001b[39m.\u001b[39;49mdlopen(_os\u001b[39m.\u001b[39;49mpath\u001b[39m.\u001b[39;49mjoin(_path, \u001b[39m'\u001b[39;49m\u001b[39m_soundfile_data\u001b[39;49m\u001b[39m'\u001b[39;49m, _packaged_libname))\n\u001b[1;32m    179\u001b[0m \u001b[39mexcept\u001b[39;00m \u001b[39mOSError\u001b[39;00m:  \u001b[39m# try system-wide libsndfile:\u001b[39;00m\n\u001b[1;32m    180\u001b[0m     \u001b[39m# Homebrew on Apple M1 uses a `/opt/homebrew/lib` instead of\u001b[39;00m\n\u001b[1;32m    181\u001b[0m     \u001b[39m# `/usr/local/lib`. We are making sure we pick that up.\u001b[39;00m\n",
      "\u001b[0;31mOSError\u001b[0m: cannot load library '/home/codespace/.python/current/lib/python3.10/site-packages/_soundfile_data/libsndfile.so': /home/codespace/.python/current/lib/python3.10/site-packages/_soundfile_data/libsndfile.so: cannot open shared object file: No such file or directory",
      "\nDuring handling of the above exception, another exception occurred:\n",
      "\u001b[0;31mOSError\u001b[0m                                   Traceback (most recent call last)",
      "Cell \u001b[0;32mIn[2], line 1\u001b[0m\n\u001b[0;32m----> 1\u001b[0m \u001b[39mimport\u001b[39;00m \u001b[39mlibrosa\u001b[39;00m\n",
      "File \u001b[0;32m~/.python/current/lib/python3.10/site-packages/librosa/__init__.py:209\u001b[0m\n\u001b[1;32m    207\u001b[0m \u001b[39m# And all the librosa sub-modules\u001b[39;00m\n\u001b[1;32m    208\u001b[0m \u001b[39mfrom\u001b[39;00m \u001b[39m.\u001b[39;00m\u001b[39m_cache\u001b[39;00m \u001b[39mimport\u001b[39;00m cache\n\u001b[0;32m--> 209\u001b[0m \u001b[39mfrom\u001b[39;00m \u001b[39m.\u001b[39;00m \u001b[39mimport\u001b[39;00m core\n\u001b[1;32m    210\u001b[0m \u001b[39mfrom\u001b[39;00m \u001b[39m.\u001b[39;00m \u001b[39mimport\u001b[39;00m beat\n\u001b[1;32m    211\u001b[0m \u001b[39mfrom\u001b[39;00m \u001b[39m.\u001b[39;00m \u001b[39mimport\u001b[39;00m decompose\n",
      "File \u001b[0;32m~/.python/current/lib/python3.10/site-packages/librosa/core/__init__.py:6\u001b[0m\n\u001b[1;32m      3\u001b[0m \u001b[39m\"\"\" Core IO and DSP functions\"\"\"\u001b[39;00m\n\u001b[1;32m      5\u001b[0m \u001b[39mfrom\u001b[39;00m \u001b[39m.\u001b[39;00m\u001b[39mconvert\u001b[39;00m \u001b[39mimport\u001b[39;00m \u001b[39m*\u001b[39m  \u001b[39m# pylint: disable=wildcard-import\u001b[39;00m\n\u001b[0;32m----> 6\u001b[0m \u001b[39mfrom\u001b[39;00m \u001b[39m.\u001b[39;00m\u001b[39maudio\u001b[39;00m \u001b[39mimport\u001b[39;00m \u001b[39m*\u001b[39m  \u001b[39m# pylint: disable=wildcard-import\u001b[39;00m\n\u001b[1;32m      7\u001b[0m \u001b[39mfrom\u001b[39;00m \u001b[39m.\u001b[39;00m\u001b[39mspectrum\u001b[39;00m \u001b[39mimport\u001b[39;00m \u001b[39m*\u001b[39m  \u001b[39m# pylint: disable=wildcard-import\u001b[39;00m\n\u001b[1;32m      8\u001b[0m \u001b[39mfrom\u001b[39;00m \u001b[39m.\u001b[39;00m\u001b[39mpitch\u001b[39;00m \u001b[39mimport\u001b[39;00m \u001b[39m*\u001b[39m  \u001b[39m# pylint: disable=wildcard-import\u001b[39;00m\n",
      "File \u001b[0;32m~/.python/current/lib/python3.10/site-packages/librosa/core/audio.py:8\u001b[0m\n\u001b[1;32m      5\u001b[0m \u001b[39mimport\u001b[39;00m \u001b[39mpathlib\u001b[39;00m\n\u001b[1;32m      6\u001b[0m \u001b[39mimport\u001b[39;00m \u001b[39mwarnings\u001b[39;00m\n\u001b[0;32m----> 8\u001b[0m \u001b[39mimport\u001b[39;00m \u001b[39msoundfile\u001b[39;00m \u001b[39mas\u001b[39;00m \u001b[39msf\u001b[39;00m\n\u001b[1;32m      9\u001b[0m \u001b[39mimport\u001b[39;00m \u001b[39maudioread\u001b[39;00m\n\u001b[1;32m     10\u001b[0m \u001b[39mimport\u001b[39;00m \u001b[39mnumpy\u001b[39;00m \u001b[39mas\u001b[39;00m \u001b[39mnp\u001b[39;00m\n",
      "File \u001b[0;32m~/.python/current/lib/python3.10/site-packages/soundfile.py:189\u001b[0m\n\u001b[1;32m    186\u001b[0m             _snd \u001b[39m=\u001b[39m _ffi\u001b[39m.\u001b[39mdlopen(_os\u001b[39m.\u001b[39mpath\u001b[39m.\u001b[39mjoin(_hbrew_path, _libname))\n\u001b[1;32m    187\u001b[0m         \u001b[39melse\u001b[39;00m:\n\u001b[1;32m    188\u001b[0m             \u001b[39m# Try explicit file name, if the general does not work (e.g. on nixos)\u001b[39;00m\n\u001b[0;32m--> 189\u001b[0m             _snd \u001b[39m=\u001b[39m _ffi\u001b[39m.\u001b[39;49mdlopen(_libname)\n\u001b[1;32m    191\u001b[0m __libsndfile_version__ \u001b[39m=\u001b[39m _ffi\u001b[39m.\u001b[39mstring(_snd\u001b[39m.\u001b[39msf_version_string())\u001b[39m.\u001b[39mdecode(\u001b[39m'\u001b[39m\u001b[39mutf-8\u001b[39m\u001b[39m'\u001b[39m, \u001b[39m'\u001b[39m\u001b[39mreplace\u001b[39m\u001b[39m'\u001b[39m)\n\u001b[1;32m    192\u001b[0m \u001b[39mif\u001b[39;00m __libsndfile_version__\u001b[39m.\u001b[39mstartswith(\u001b[39m'\u001b[39m\u001b[39mlibsndfile-\u001b[39m\u001b[39m'\u001b[39m):\n",
      "\u001b[0;31mOSError\u001b[0m: cannot load library 'libsndfile.so': libsndfile.so: cannot open shared object file: No such file or directory"
     ]
    }
   ],
   "source": [
    "import librosa"
   ]
  },
  {
   "cell_type": "code",
   "execution_count": null,
   "metadata": {},
   "outputs": [],
   "source": [
    "''' Loadnig Audio '''\n",
    "sample_a = '/workspaces/data-science/audio_processing/samples/sample_a.wav'\n",
    "sample_b = '/workspaces/data-science/audio_processing/samples/sample_b.wav'\n",
    "\n",
    "samples, sampling_rate = librosa.load(sample_a, sr = None, mono = False, offset = 0.0, duration = None)\n",
    "\n",
    "len(samples), sampling_rate"
   ]
  }
 ],
 "metadata": {
  "kernelspec": {
   "display_name": "Python 3",
   "language": "python",
   "name": "python3"
  },
  "language_info": {
   "codemirror_mode": {
    "name": "ipython",
    "version": 3
   },
   "file_extension": ".py",
   "mimetype": "text/x-python",
   "name": "python",
   "nbconvert_exporter": "python",
   "pygments_lexer": "ipython3",
   "version": "3.10.4"
  },
  "orig_nbformat": 4,
  "vscode": {
   "interpreter": {
    "hash": "3ad933181bd8a04b432d3370b9dc3b0662ad032c4dfaa4e4f1596c548f763858"
   }
  }
 },
 "nbformat": 4,
 "nbformat_minor": 2
}
