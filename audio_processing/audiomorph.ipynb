{
 "cells": [
  {
   "cell_type": "code",
   "execution_count": 1,
   "metadata": {},
   "outputs": [],
   "source": [
    "import librosa\n",
    "import librosa.display\n",
    "import soundfile as sf\n",
    "\n",
    "import numpy as np\n",
    "import matplotlib.pyplot as plt\n"
   ]
  },
  {
   "cell_type": "code",
   "execution_count": 8,
   "metadata": {},
   "outputs": [
    {
     "name": "stdout",
     "output_type": "stream",
     "text": [
      "_wave_params(nchannels=2, sampwidth=2, framerate=44100, nframes=141120, comptype='NONE', compname='not compressed')\n"
     ]
    }
   ],
   "source": [
    "import wave\n",
    "\n",
    "data = wave.open('../audio_processing/samples/sample_b.wav', mode = 'rb')\n",
    "params = data.getparams()\n",
    "print(params)"
   ]
  },
  {
   "cell_type": "code",
   "execution_count": 9,
   "metadata": {},
   "outputs": [
    {
     "data": {
      "text/plain": [
       "22050"
      ]
     },
     "execution_count": 9,
     "metadata": {},
     "output_type": "execute_result"
    }
   ],
   "source": [
    "# Load the stereo audio file\n",
    "audio_a, sr_a = librosa.load('../audio_processing/samples/sample_a.wav', mono = False)\n",
    "\n",
    "audio_b, sr_b = librosa.load('../audio_processing/samples/sample_b.wav', mono = False)\n",
    "\n",
    "# Split the stereo audio into two mono channels\n",
    "# channel_left = audio[:,0]\n",
    "# channel_right = audio[:,1]\n",
    "sr_a"
   ]
  },
  {
   "cell_type": "code",
   "execution_count": 4,
   "metadata": {},
   "outputs": [],
   "source": [
    "# # test = librosa.feature.melspectrogram(y=audio, sr=sr)\n",
    "\n",
    "# size = 2048\n",
    "# m = 1/32\n",
    "\n",
    "# # Passing through arguments to the Mel filters\n",
    "# D = librosa.stft(audio, n_fft=size, hop_length = int(size*m), win_length = int(size*m))  # STFT of y\n",
    "# S_db = librosa.amplitude_to_db(np.abs(D), ref=np.max)\n",
    "\n",
    "\n",
    "# fig, ax = plt.subplots()\n",
    "# img = librosa.display.specshow(S_db[0], n_fft=size, hop_length = int(size), win_length = int(size*m))\n",
    "# fig.patch.set_visible(False)"
   ]
  },
  {
   "cell_type": "code",
   "execution_count": 15,
   "metadata": {},
   "outputs": [
    {
     "ename": "ValueError",
     "evalue": "Unknown format: 'WAVE'",
     "output_type": "error",
     "traceback": [
      "\u001b[1;31m---------------------------------------------------------------------------\u001b[0m",
      "\u001b[1;31mKeyError\u001b[0m                                  Traceback (most recent call last)",
      "File \u001b[1;32m~\\AppData\\Local\\Packages\\PythonSoftwareFoundation.Python.3.10_qbz5n2kfra8p0\\LocalCache\\local-packages\\Python310\\site-packages\\soundfile.py:1543\u001b[0m, in \u001b[0;36m_check_format\u001b[1;34m(format_str)\u001b[0m\n\u001b[0;32m   1542\u001b[0m \u001b[39mtry\u001b[39;00m:\n\u001b[1;32m-> 1543\u001b[0m     format_int \u001b[39m=\u001b[39m _formats[format_str\u001b[39m.\u001b[39;49mupper()]\n\u001b[0;32m   1544\u001b[0m \u001b[39mexcept\u001b[39;00m \u001b[39mKeyError\u001b[39;00m:\n",
      "\u001b[1;31mKeyError\u001b[0m: 'WAVE'",
      "\nDuring handling of the above exception, another exception occurred:\n",
      "\u001b[1;31mValueError\u001b[0m                                Traceback (most recent call last)",
      "Cell \u001b[1;32mIn[15], line 4\u001b[0m\n\u001b[0;32m      1\u001b[0m interpolated_signals \u001b[39m=\u001b[39m [audio_a \u001b[39m+\u001b[39m (audio_b \u001b[39m-\u001b[39m audio_a) \u001b[39m*\u001b[39m i \u001b[39m/\u001b[39m \u001b[39m14\u001b[39m \u001b[39mfor\u001b[39;00m i \u001b[39min\u001b[39;00m \u001b[39mrange\u001b[39m(\u001b[39m1\u001b[39m, \u001b[39m15\u001b[39m)]\n\u001b[0;32m      3\u001b[0m \u001b[39mfor\u001b[39;00m i, y \u001b[39min\u001b[39;00m \u001b[39menumerate\u001b[39m(interpolated_signals):\n\u001b[1;32m----> 4\u001b[0m     sf\u001b[39m.\u001b[39;49mwrite(\u001b[39m'\u001b[39;49m\u001b[39m../audio_processing/output/interpolated_signal_\u001b[39;49m\u001b[39m{}\u001b[39;49;00m\u001b[39m.wav\u001b[39;49m\u001b[39m'\u001b[39;49m\u001b[39m.\u001b[39;49mformat(i), y, sr_a, \u001b[39mformat\u001b[39;49m\u001b[39m=\u001b[39;49m\u001b[39m'\u001b[39;49m\u001b[39mWAVE\u001b[39;49m\u001b[39m'\u001b[39;49m, subtype\u001b[39m=\u001b[39;49m\u001b[39m'\u001b[39;49m\u001b[39mPCM_24\u001b[39;49m\u001b[39m'\u001b[39;49m)\n\u001b[0;32m      5\u001b[0m     \u001b[39m# sf.write('../audio_processing/output/interpolated_signal_{}.wav'.format(i), y, sr_a, subtype='PCM_16')\u001b[39;00m\n",
      "File \u001b[1;32m~\\AppData\\Local\\Packages\\PythonSoftwareFoundation.Python.3.10_qbz5n2kfra8p0\\LocalCache\\local-packages\\Python310\\site-packages\\soundfile.py:340\u001b[0m, in \u001b[0;36mwrite\u001b[1;34m(file, data, samplerate, subtype, endian, format, closefd)\u001b[0m\n\u001b[0;32m    338\u001b[0m \u001b[39melse\u001b[39;00m:\n\u001b[0;32m    339\u001b[0m     channels \u001b[39m=\u001b[39m data\u001b[39m.\u001b[39mshape[\u001b[39m1\u001b[39m]\n\u001b[1;32m--> 340\u001b[0m \u001b[39mwith\u001b[39;00m SoundFile(file, \u001b[39m'\u001b[39;49m\u001b[39mw\u001b[39;49m\u001b[39m'\u001b[39;49m, samplerate, channels,\n\u001b[0;32m    341\u001b[0m                subtype, endian, \u001b[39mformat\u001b[39;49m, closefd) \u001b[39mas\u001b[39;00m f:\n\u001b[0;32m    342\u001b[0m     f\u001b[39m.\u001b[39mwrite(data)\n",
      "File \u001b[1;32m~\\AppData\\Local\\Packages\\PythonSoftwareFoundation.Python.3.10_qbz5n2kfra8p0\\LocalCache\\local-packages\\Python310\\site-packages\\soundfile.py:653\u001b[0m, in \u001b[0;36mSoundFile.__init__\u001b[1;34m(self, file, mode, samplerate, channels, subtype, endian, format, closefd)\u001b[0m\n\u001b[0;32m    651\u001b[0m mode_int \u001b[39m=\u001b[39m _check_mode(mode)\n\u001b[0;32m    652\u001b[0m \u001b[39mself\u001b[39m\u001b[39m.\u001b[39m_mode \u001b[39m=\u001b[39m mode\n\u001b[1;32m--> 653\u001b[0m \u001b[39mself\u001b[39m\u001b[39m.\u001b[39m_info \u001b[39m=\u001b[39m _create_info_struct(file, mode, samplerate, channels,\n\u001b[0;32m    654\u001b[0m                                  \u001b[39mformat\u001b[39;49m, subtype, endian)\n\u001b[0;32m    655\u001b[0m \u001b[39mself\u001b[39m\u001b[39m.\u001b[39m_file \u001b[39m=\u001b[39m \u001b[39mself\u001b[39m\u001b[39m.\u001b[39m_open(file, mode_int, closefd)\n\u001b[0;32m    656\u001b[0m \u001b[39mif\u001b[39;00m \u001b[39mset\u001b[39m(mode)\u001b[39m.\u001b[39missuperset(\u001b[39m'\u001b[39m\u001b[39mr+\u001b[39m\u001b[39m'\u001b[39m) \u001b[39mand\u001b[39;00m \u001b[39mself\u001b[39m\u001b[39m.\u001b[39mseekable():\n\u001b[0;32m    657\u001b[0m     \u001b[39m# Move write position to 0 (like in Python file objects)\u001b[39;00m\n",
      "File \u001b[1;32m~\\AppData\\Local\\Packages\\PythonSoftwareFoundation.Python.3.10_qbz5n2kfra8p0\\LocalCache\\local-packages\\Python310\\site-packages\\soundfile.py:1466\u001b[0m, in \u001b[0;36m_create_info_struct\u001b[1;34m(file, mode, samplerate, channels, format, subtype, endian)\u001b[0m\n\u001b[0;32m   1464\u001b[0m     \u001b[39massert\u001b[39;00m \u001b[39misinstance\u001b[39m(\u001b[39mformat\u001b[39m, (_unicode, \u001b[39mstr\u001b[39m))\n\u001b[0;32m   1465\u001b[0m \u001b[39melse\u001b[39;00m:\n\u001b[1;32m-> 1466\u001b[0m     _check_format(\u001b[39mformat\u001b[39;49m)\n\u001b[0;32m   1468\u001b[0m info \u001b[39m=\u001b[39m _ffi\u001b[39m.\u001b[39mnew(\u001b[39m\"\u001b[39m\u001b[39mSF_INFO*\u001b[39m\u001b[39m\"\u001b[39m)\n\u001b[0;32m   1469\u001b[0m \u001b[39mif\u001b[39;00m \u001b[39m'\u001b[39m\u001b[39mr\u001b[39m\u001b[39m'\u001b[39m \u001b[39mnot\u001b[39;00m \u001b[39min\u001b[39;00m mode \u001b[39mor\u001b[39;00m \u001b[39mformat\u001b[39m\u001b[39m.\u001b[39mupper() \u001b[39m==\u001b[39m \u001b[39m'\u001b[39m\u001b[39mRAW\u001b[39m\u001b[39m'\u001b[39m:\n",
      "File \u001b[1;32m~\\AppData\\Local\\Packages\\PythonSoftwareFoundation.Python.3.10_qbz5n2kfra8p0\\LocalCache\\local-packages\\Python310\\site-packages\\soundfile.py:1545\u001b[0m, in \u001b[0;36m_check_format\u001b[1;34m(format_str)\u001b[0m\n\u001b[0;32m   1543\u001b[0m     format_int \u001b[39m=\u001b[39m _formats[format_str\u001b[39m.\u001b[39mupper()]\n\u001b[0;32m   1544\u001b[0m \u001b[39mexcept\u001b[39;00m \u001b[39mKeyError\u001b[39;00m:\n\u001b[1;32m-> 1545\u001b[0m     \u001b[39mraise\u001b[39;00m \u001b[39mValueError\u001b[39;00m(\u001b[39m\"\u001b[39m\u001b[39mUnknown format: \u001b[39m\u001b[39m{0!r}\u001b[39;00m\u001b[39m\"\u001b[39m\u001b[39m.\u001b[39mformat(format_str))\n\u001b[0;32m   1546\u001b[0m \u001b[39mreturn\u001b[39;00m format_int\n",
      "\u001b[1;31mValueError\u001b[0m: Unknown format: 'WAVE'"
     ]
    }
   ],
   "source": [
    "interpolated_signals = [audio_a + (audio_b - audio_a) * i / 14 for i in range(1, 15)]\n",
    "\n",
    "for i, y in enumerate(interpolated_signals):\n",
    "    sf.write('../audio_processing/output/interpolated_signal_{}.wav'.format(i), y, sr_a, format='WAV', subtype='PCM_24')\n",
    "    # sf.write('../audio_processing/output/interpolated_signal_{}.wav'.format(i), y, sr_a, subtype='PCM_16')"
   ]
  }
 ],
 "metadata": {
  "kernelspec": {
   "display_name": "Python 3",
   "language": "python",
   "name": "python3"
  },
  "language_info": {
   "codemirror_mode": {
    "name": "ipython",
    "version": 3
   },
   "file_extension": ".py",
   "mimetype": "text/x-python",
   "name": "python",
   "nbconvert_exporter": "python",
   "pygments_lexer": "ipython3",
   "version": "3.10.10"
  },
  "orig_nbformat": 4,
  "vscode": {
   "interpreter": {
    "hash": "e5c7e715d18d2d61bbbaafe6e1b99e9c8eb8c09e5a6284bdb2b31a061ac1425b"
   }
  }
 },
 "nbformat": 4,
 "nbformat_minor": 2
}
