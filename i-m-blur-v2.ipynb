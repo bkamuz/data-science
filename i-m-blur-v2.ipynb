{
 "cells": [
  {
   "cell_type": "markdown",
   "id": "654eccfa",
   "metadata": {
    "papermill": {
     "duration": 0.008683,
     "end_time": "2023-01-08T23:57:21.948746",
     "exception": false,
     "start_time": "2023-01-08T23:57:21.940063",
     "status": "completed"
    },
    "tags": []
   },
   "source": [
    "# Привет!"
   ]
  },
  {
   "cell_type": "markdown",
   "id": "0f5b0b5a",
   "metadata": {
    "papermill": {
     "duration": 0.007146,
     "end_time": "2023-01-08T23:57:21.963453",
     "exception": false,
     "start_time": "2023-01-08T23:57:21.956307",
     "status": "completed"
    },
    "tags": []
   },
   "source": [
    "Это уже версия 100500. В ней я уже е стал сильно заморачиватся с отображением картинок и больше сконцентрировался на алгоритмах. Что в общем то дало хорошие плоды. Если останется немного времени - обязательно добавлю визуализации, если их не будет, увы - значит не успел. Спасибо за внимание и приятного изучения."
   ]
  },
  {
   "cell_type": "markdown",
   "id": "b8bf263b",
   "metadata": {
    "papermill": {
     "duration": 0.007288,
     "end_time": "2023-01-08T23:57:21.978402",
     "exception": false,
     "start_time": "2023-01-08T23:57:21.971114",
     "status": "completed"
    },
    "tags": []
   },
   "source": [
    "# 1.1 Загружаем основные библиотеки для исследования и обучения"
   ]
  },
  {
   "cell_type": "code",
   "execution_count": 1,
   "id": "eeb50d1f",
   "metadata": {
    "execution": {
     "iopub.execute_input": "2023-01-08T23:57:21.995988Z",
     "iopub.status.busy": "2023-01-08T23:57:21.995005Z",
     "iopub.status.idle": "2023-01-08T23:57:28.562141Z",
     "shell.execute_reply": "2023-01-08T23:57:28.560842Z"
    },
    "papermill": {
     "duration": 6.579406,
     "end_time": "2023-01-08T23:57:28.565167",
     "exception": false,
     "start_time": "2023-01-08T23:57:21.985761",
     "status": "completed"
    },
    "tags": []
   },
   "outputs": [],
   "source": [
    "import cv2\n",
    "import numpy as np\n",
    "import pandas as pd\n",
    "import tensorflow as tf\n",
    "import matplotlib.pyplot as plt\n",
    "from skimage.feature import local_binary_pattern\n",
    "\n",
    "import os\n",
    "import gc"
   ]
  },
  {
   "cell_type": "markdown",
   "id": "486f14c1",
   "metadata": {
    "papermill": {
     "duration": 0.007253,
     "end_time": "2023-01-08T23:57:28.580161",
     "exception": false,
     "start_time": "2023-01-08T23:57:28.572908",
     "status": "completed"
    },
    "tags": []
   },
   "source": [
    "**У нас есть:**\n",
    "\n",
    "* Папка с картинками train и метки по размытию этих картинок в train.csv, тоесть файлы для тренировки модели\n",
    "* Папка с картинками test над которой мы и будем проводить эксперимент\n",
    "* Пример вывода в виде sample_submission.csv"
   ]
  },
  {
   "cell_type": "markdown",
   "id": "4b534832",
   "metadata": {
    "papermill": {
     "duration": 0.008699,
     "end_time": "2023-01-08T23:57:28.596433",
     "exception": false,
     "start_time": "2023-01-08T23:57:28.587734",
     "status": "completed"
    },
    "tags": []
   },
   "source": [
    "Утилита для отображения загрузки RAM. Что бы можно было удобно отслеживатьзагрузку памяти."
   ]
  },
  {
   "cell_type": "code",
   "execution_count": 2,
   "id": "758388e0",
   "metadata": {
    "execution": {
     "iopub.execute_input": "2023-01-08T23:57:28.613380Z",
     "iopub.status.busy": "2023-01-08T23:57:28.612726Z",
     "iopub.status.idle": "2023-01-08T23:57:28.619633Z",
     "shell.execute_reply": "2023-01-08T23:57:28.618442Z"
    },
    "papermill": {
     "duration": 0.018055,
     "end_time": "2023-01-08T23:57:28.621920",
     "exception": false,
     "start_time": "2023-01-08T23:57:28.603865",
     "status": "completed"
    },
    "tags": []
   },
   "outputs": [],
   "source": [
    "import sys\n",
    "def sizeof_fmt(num, suffix='B'):\n",
    "    ''' by Fred Cirera,  https://stackoverflow.com/a/1094933/1870254, modified'''\n",
    "    for unit in ['','Ki','Mi','Gi','Ti','Pi','Ei','Zi']:\n",
    "        if abs(num) < 1024.0:\n",
    "            return \"%3.1f %s%s\" % (num, unit, suffix)\n",
    "        num /= 1024.0\n",
    "    return \"%.1f %s%s\" % (num, 'Yi', suffix)"
   ]
  },
  {
   "cell_type": "markdown",
   "id": "77106cf5",
   "metadata": {
    "papermill": {
     "duration": 0.007255,
     "end_time": "2023-01-08T23:57:28.636856",
     "exception": false,
     "start_time": "2023-01-08T23:57:28.629601",
     "status": "completed"
    },
    "tags": []
   },
   "source": [
    "# 1.2 Подготовим сет для анализа"
   ]
  },
  {
   "cell_type": "code",
   "execution_count": 3,
   "id": "be6069e9",
   "metadata": {
    "execution": {
     "iopub.execute_input": "2023-01-08T23:57:28.654032Z",
     "iopub.status.busy": "2023-01-08T23:57:28.653378Z",
     "iopub.status.idle": "2023-01-08T23:57:38.235210Z",
     "shell.execute_reply": "2023-01-08T23:57:38.234198Z"
    },
    "papermill": {
     "duration": 9.593386,
     "end_time": "2023-01-08T23:57:38.237636",
     "exception": false,
     "start_time": "2023-01-08T23:57:28.644250",
     "status": "completed"
    },
    "tags": []
   },
   "outputs": [
    {
     "name": "stdout",
     "output_type": "stream",
     "text": [
      "800  of  800  |  lbvwnlacfdviuxbujysg.jpg:  (640, 640, 3) ()\r"
     ]
    }
   ],
   "source": [
    "train_images_labels = pd.read_csv('/kaggle/input/shift-cv-winter-2023/train.csv', header=0)\n",
    "train_images_labels['blur'] = pd.to_numeric(train_images_labels['blur'].astype(int), downcast='integer')\n",
    "\n",
    "\n",
    "# Загрузка изображений из CSV файла\n",
    "def load_images(data_frame, image_dir):\n",
    "    images = []\n",
    "    labels = []\n",
    "    #dim = (420,420)\n",
    "    for idx, data in enumerate(data_frame['filename']):\n",
    "        filename, label = data_frame.iloc[idx,0], data_frame.iloc[idx,1]\n",
    "        filepath = f'{image_dir}/{filename}'\n",
    "        image = cv2.imread(filepath)\n",
    "        #resized = cv2.resize(image, dim, interpolation = cv2.INTER_AREA)\n",
    "        #rgb_image = cv2.cvtColor(image, cv2.COLOR_BGR2RGB)\n",
    "        grayimg = cv2.cvtColor(image, cv2.COLOR_BGR2GRAY)\n",
    "        images.append(grayimg)\n",
    "        labels.append(int(label))\n",
    "        \n",
    "        print(idx+1,' of ' ,len(data_frame['filename']), \" | \", filename + ': ', image.shape, label.shape, end='\\r')\n",
    "    return images, labels\n",
    "\n",
    "\n",
    "# Загрузка изображений и меток\n",
    "train_images_direct = '/kaggle/input/shift-cv-winter-2023/train/train'\n",
    "images_train, labels_train = load_images(train_images_labels[:800], train_images_direct) "
   ]
  },
  {
   "cell_type": "markdown",
   "id": "33315a97",
   "metadata": {
    "papermill": {
     "duration": 0.011238,
     "end_time": "2023-01-08T23:57:38.260947",
     "exception": false,
     "start_time": "2023-01-08T23:57:38.249709",
     "status": "completed"
    },
    "tags": []
   },
   "source": [
    "Посмотрим на сет"
   ]
  },
  {
   "cell_type": "code",
   "execution_count": 4,
   "id": "1d2bd5a9",
   "metadata": {
    "execution": {
     "iopub.execute_input": "2023-01-08T23:57:38.286045Z",
     "iopub.status.busy": "2023-01-08T23:57:38.284910Z",
     "iopub.status.idle": "2023-01-08T23:57:39.162270Z",
     "shell.execute_reply": "2023-01-08T23:57:39.161105Z"
    },
    "papermill": {
     "duration": 0.892379,
     "end_time": "2023-01-08T23:57:39.164687",
     "exception": false,
     "start_time": "2023-01-08T23:57:38.272308",
     "status": "completed"
    },
    "tags": []
   },
   "outputs": [
    {
     "data": {
      "image/png": "[encoded data removed]",
      "text/plain": [
       "<Figure size 432x288 with 10 Axes>"
      ]
     },
     "metadata": {
      "needs_background": "light"
     },
     "output_type": "display_data"
    }
   ],
   "source": [
    "batch_size=10\n",
    "\n",
    "for i in range(batch_size):\n",
    "    plt.subplot(1, batch_size, i + 1)\n",
    "    img = images_train[i]\n",
    "    img = img / 255\n",
    "    plt.imshow(img)\n",
    "    plt.axis('off')\n",
    "    # Указать размытость\n",
    "    plt.title(labels_train[i])\n",
    "\n",
    "plt.suptitle('Предварительный просмотр', size=20)\n",
    "plt.show()\n"
   ]
  },
  {
   "cell_type": "code",
   "execution_count": 5,
   "id": "d3d55b3a",
   "metadata": {
    "execution": {
     "iopub.execute_input": "2023-01-08T23:57:39.191564Z",
     "iopub.status.busy": "2023-01-08T23:57:39.190549Z",
     "iopub.status.idle": "2023-01-08T23:57:39.378058Z",
     "shell.execute_reply": "2023-01-08T23:57:39.377040Z"
    },
    "papermill": {
     "duration": 0.204442,
     "end_time": "2023-01-08T23:57:39.381393",
     "exception": false,
     "start_time": "2023-01-08T23:57:39.176951",
     "status": "completed"
    },
    "tags": []
   },
   "outputs": [
    {
     "name": "stdout",
     "output_type": "stream",
     "text": [
      "           train_images_labels: 213.5 KiB\n",
      "                  images_train:  6.9 KiB\n",
      "                  labels_train:  6.9 KiB\n",
      "                           _ii:  2.3 KiB\n",
      "                           _i3:  2.3 KiB\n",
      "                            _i:  642.0 B\n",
      "                           _i4:  642.0 B\n",
      "                           _i5:  610.0 B\n",
      "                          _iii:  382.0 B\n",
      "                           _i2:  382.0 B\n"
     ]
    }
   ],
   "source": [
    "# Удалим все лишнее\n",
    "del img\n",
    "gc.collect()\n",
    "\n",
    "# Диспетчер переменных, проверим, все ли удалили\n",
    "for name, size in sorted(((name, sys.getsizeof(value)) for name, value in locals().items()),key= lambda x: -x[1])[:10]:\n",
    "    print(\"{:>30}: {:>8}\".format(name, sizeof_fmt(size)))"
   ]
  },
  {
   "cell_type": "code",
   "execution_count": 6,
   "id": "bbb23060",
   "metadata": {
    "execution": {
     "iopub.execute_input": "2023-01-08T23:57:39.413743Z",
     "iopub.status.busy": "2023-01-08T23:57:39.413307Z",
     "iopub.status.idle": "2023-01-08T23:57:39.418529Z",
     "shell.execute_reply": "2023-01-08T23:57:39.417324Z"
    },
    "papermill": {
     "duration": 0.021542,
     "end_time": "2023-01-08T23:57:39.420757",
     "exception": false,
     "start_time": "2023-01-08T23:57:39.399215",
     "status": "completed"
    },
    "tags": []
   },
   "outputs": [],
   "source": [
    "# Подготовим метки\n",
    "labels = np.asarray(labels_train)"
   ]
  },
  {
   "cell_type": "markdown",
   "id": "e076e4a3",
   "metadata": {
    "papermill": {
     "duration": 0.012463,
     "end_time": "2023-01-08T23:57:39.446098",
     "exception": false,
     "start_time": "2023-01-08T23:57:39.433635",
     "status": "completed"
    },
    "tags": []
   },
   "source": [
    "# 2.1 Подготовим функции для анализа изображений"
   ]
  },
  {
   "cell_type": "code",
   "execution_count": 7,
   "id": "6c2d3078",
   "metadata": {
    "execution": {
     "iopub.execute_input": "2023-01-08T23:57:39.473474Z",
     "iopub.status.busy": "2023-01-08T23:57:39.473078Z",
     "iopub.status.idle": "2023-01-08T23:57:39.481264Z",
     "shell.execute_reply": "2023-01-08T23:57:39.480009Z"
    },
    "papermill": {
     "duration": 0.02458,
     "end_time": "2023-01-08T23:57:39.483417",
     "exception": false,
     "start_time": "2023-01-08T23:57:39.458837",
     "status": "completed"
    },
    "tags": []
   },
   "outputs": [],
   "source": [
    "# Функция Лапласа для извлечения признаков\n",
    "def lap_features(image):\n",
    "    lap = cv2.Laplacian(image, cv2.CV_64F) #.astype(np.float32)\n",
    "    lap = np.abs(lap)\n",
    "    lap = lap.flatten()\n",
    "    return lap\n",
    "\n",
    "# Функция Фурье для извлечения признаков\n",
    "def fourier_features(image):\n",
    "    fft = np.abs(np.fft.fft2(image))\n",
    "    fft = fft.flatten()\n",
    "    return fft\n",
    "\n",
    "# Функция DCT для извлечения признаков\n",
    "def dct_features(image):\n",
    "    dct = cv2.dct(image.astype(np.float32))\n",
    "    dct = np.abs(dct)\n",
    "    dct = dct.flatten()\n",
    "    return dct\n",
    "\n",
    "# Функция LBP для извлечения признаков\n",
    "def lbp_features(image):\n",
    "    lbp = local_binary_pattern(image, 8, 1, 'uniform')\n",
    "    lbp = lbp.flatten()\n",
    "    return lbp"
   ]
  },
  {
   "cell_type": "markdown",
   "id": "d6407d0e",
   "metadata": {
    "papermill": {
     "duration": 0.012459,
     "end_time": "2023-01-08T23:57:39.508916",
     "exception": false,
     "start_time": "2023-01-08T23:57:39.496457",
     "status": "completed"
    },
    "tags": []
   },
   "source": [
    "# 2.2 Используя функции соберем сет для тренировки и проверки"
   ]
  },
  {
   "cell_type": "code",
   "execution_count": 8,
   "id": "8873467d",
   "metadata": {
    "execution": {
     "iopub.execute_input": "2023-01-08T23:57:39.536193Z",
     "iopub.status.busy": "2023-01-08T23:57:39.535816Z",
     "iopub.status.idle": "2023-01-08T23:59:14.198399Z",
     "shell.execute_reply": "2023-01-08T23:59:14.197243Z"
    },
    "papermill": {
     "duration": 94.691894,
     "end_time": "2023-01-08T23:59:14.213713",
     "exception": false,
     "start_time": "2023-01-08T23:57:39.521819",
     "status": "completed"
    },
    "tags": []
   },
   "outputs": [
    {
     "data": {
      "text/plain": [
       "((800, 409600), (800, 409600), (800, 409600), (800, 409600))"
      ]
     },
     "execution_count": 8,
     "metadata": {},
     "output_type": "execute_result"
    }
   ],
   "source": [
    "lap_data = np.array([lap_features(image) for image in images_train])\n",
    "fou_data = np.array([fourier_features(image) for image in images_train])\n",
    "dct_data = np.array([dct_features(image) for image in images_train])\n",
    "lbp_data = np.array([lbp_features(image) for image in images_train])\n",
    "                          \n",
    "# Объединение признаков в единый массив\n",
    "features = np.concatenate([lap_data, fou_data, dct_data, lbp_data], axis=1)\n",
    "\n",
    "(lap_data.shape, fou_data.shape, dct_data.shape, lbp_data.shape)"
   ]
  },
  {
   "cell_type": "code",
   "execution_count": 9,
   "id": "a278673c",
   "metadata": {
    "execution": {
     "iopub.execute_input": "2023-01-08T23:59:14.239308Z",
     "iopub.status.busy": "2023-01-08T23:59:14.238919Z",
     "iopub.status.idle": "2023-01-08T23:59:14.437476Z",
     "shell.execute_reply": "2023-01-08T23:59:14.436121Z"
    },
    "papermill": {
     "duration": 0.214207,
     "end_time": "2023-01-08T23:59:14.439803",
     "exception": false,
     "start_time": "2023-01-08T23:59:14.225596",
     "status": "completed"
    },
    "tags": []
   },
   "outputs": [
    {
     "name": "stdout",
     "output_type": "stream",
     "text": [
      "                      features:  9.8 GiB\n",
      "                        labels:  6.4 KiB\n",
      "                           _i3:  2.3 KiB\n",
      "                           _ii:  1.4 KiB\n",
      "                           _i7:  1.4 KiB\n",
      "                            _i:  1.0 KiB\n",
      "                           _i8:  1.0 KiB\n",
      "                           _i9:  778.0 B\n",
      "                           _i4:  642.0 B\n",
      "                           _i5:  610.0 B\n"
     ]
    }
   ],
   "source": [
    "# Удалим все лишнее\n",
    "del images_train, labels_train, lap_data, fou_data, dct_data, lbp_data, train_images_labels\n",
    "gc.collect()\n",
    "\n",
    "# Диспетчер переменных, проверим, все ли удалили\n",
    "for name, size in sorted(((name, sys.getsizeof(value)) for name, value in locals().items()),key= lambda x: -x[1])[:10]:\n",
    "    print(\"{:>30}: {:>8}\".format(name, sizeof_fmt(size)))"
   ]
  },
  {
   "cell_type": "code",
   "execution_count": 10,
   "id": "9d9de2d1",
   "metadata": {
    "execution": {
     "iopub.execute_input": "2023-01-08T23:59:14.466387Z",
     "iopub.status.busy": "2023-01-08T23:59:14.465969Z",
     "iopub.status.idle": "2023-01-08T23:59:14.473663Z",
     "shell.execute_reply": "2023-01-08T23:59:14.472591Z"
    },
    "papermill": {
     "duration": 0.025319,
     "end_time": "2023-01-08T23:59:14.477464",
     "exception": false,
     "start_time": "2023-01-08T23:59:14.452145",
     "status": "completed"
    },
    "tags": []
   },
   "outputs": [
    {
     "data": {
      "text/plain": [
       "((dtype('int64'), dtype('float64')), ((800,), (800, 1638400)))"
      ]
     },
     "execution_count": 10,
     "metadata": {},
     "output_type": "execute_result"
    }
   ],
   "source": [
    "# Проверим типы и структуру\n",
    "(labels.dtype, features.dtype), (labels.shape, features.shape)"
   ]
  },
  {
   "cell_type": "code",
   "execution_count": 11,
   "id": "571017ba",
   "metadata": {
    "execution": {
     "iopub.execute_input": "2023-01-08T23:59:14.506602Z",
     "iopub.status.busy": "2023-01-08T23:59:14.505938Z",
     "iopub.status.idle": "2023-01-08T23:59:14.512734Z",
     "shell.execute_reply": "2023-01-08T23:59:14.511591Z"
    },
    "papermill": {
     "duration": 0.023563,
     "end_time": "2023-01-08T23:59:14.515226",
     "exception": false,
     "start_time": "2023-01-08T23:59:14.491663",
     "status": "completed"
    },
    "tags": []
   },
   "outputs": [
    {
     "data": {
      "text/plain": [
       "1638400"
      ]
     },
     "execution_count": 11,
     "metadata": {},
     "output_type": "execute_result"
    }
   ],
   "source": [
    "# Подготовим размер для модели\n",
    "model_shape = features.shape[1]\n",
    "model_shape"
   ]
  },
  {
   "cell_type": "code",
   "execution_count": 12,
   "id": "452564f6",
   "metadata": {
    "execution": {
     "iopub.execute_input": "2023-01-08T23:59:14.541544Z",
     "iopub.status.busy": "2023-01-08T23:59:14.541150Z",
     "iopub.status.idle": "2023-01-08T23:59:18.798990Z",
     "shell.execute_reply": "2023-01-08T23:59:18.794954Z"
    },
    "papermill": {
     "duration": 4.285407,
     "end_time": "2023-01-08T23:59:18.812933",
     "exception": false,
     "start_time": "2023-01-08T23:59:14.527526",
     "status": "completed"
    },
    "tags": []
   },
   "outputs": [],
   "source": [
    "from sklearn.model_selection import train_test_split\n",
    "\n",
    "# Разделение данных на обучающую и тестовую выборки\n",
    "X_train, X_test, y_train, y_test = train_test_split(features, np.asarray(labels), test_size=0.2)"
   ]
  },
  {
   "cell_type": "code",
   "execution_count": 13,
   "id": "db4707a8",
   "metadata": {
    "execution": {
     "iopub.execute_input": "2023-01-08T23:59:18.856696Z",
     "iopub.status.busy": "2023-01-08T23:59:18.855842Z",
     "iopub.status.idle": "2023-01-08T23:59:19.114829Z",
     "shell.execute_reply": "2023-01-08T23:59:19.113723Z"
    },
    "papermill": {
     "duration": 0.283519,
     "end_time": "2023-01-08T23:59:19.118145",
     "exception": false,
     "start_time": "2023-01-08T23:59:18.834626",
     "status": "completed"
    },
    "tags": []
   },
   "outputs": [
    {
     "name": "stdout",
     "output_type": "stream",
     "text": [
      "                       X_train:  7.8 GiB\n",
      "                        X_test:  2.0 GiB\n",
      "                       y_train:  5.1 KiB\n",
      "                           _i3:  2.3 KiB\n",
      "                           _i7:  1.4 KiB\n",
      "                        y_test:  1.4 KiB\n",
      "                           _i8:  1.0 KiB\n",
      "                           _i9:  778.0 B\n",
      "                           _i4:  642.0 B\n",
      "                          _i13:  636.0 B\n"
     ]
    }
   ],
   "source": [
    "# Удалим все лишнее\n",
    "del features, labels\n",
    "gc.collect()\n",
    "\n",
    "# Диспетчер переменных, проверим, все ли удалили\n",
    "for name, size in sorted(((name, sys.getsizeof(value)) for name, value in locals().items()),key= lambda x: -x[1])[:10]:\n",
    "    print(\"{:>30}: {:>8}\".format(name, sizeof_fmt(size)))"
   ]
  },
  {
   "cell_type": "markdown",
   "id": "086cc65d",
   "metadata": {
    "papermill": {
     "duration": 0.014328,
     "end_time": "2023-01-08T23:59:19.147938",
     "exception": false,
     "start_time": "2023-01-08T23:59:19.133610",
     "status": "completed"
    },
    "tags": []
   },
   "source": [
    "# 3.1 Теперь попробуем обучить модель на этих полученных данных\n"
   ]
  },
  {
   "cell_type": "code",
   "execution_count": 14,
   "id": "ac970273",
   "metadata": {
    "execution": {
     "iopub.execute_input": "2023-01-08T23:59:19.179340Z",
     "iopub.status.busy": "2023-01-08T23:59:19.178913Z",
     "iopub.status.idle": "2023-01-08T23:59:19.186623Z",
     "shell.execute_reply": "2023-01-08T23:59:19.185412Z"
    },
    "papermill": {
     "duration": 0.026251,
     "end_time": "2023-01-08T23:59:19.188877",
     "exception": false,
     "start_time": "2023-01-08T23:59:19.162626",
     "status": "completed"
    },
    "tags": []
   },
   "outputs": [
    {
     "data": {
      "text/plain": [
       "((640, 1638400), (160, 1638400), (640,), (160,))"
      ]
     },
     "execution_count": 14,
     "metadata": {},
     "output_type": "execute_result"
    }
   ],
   "source": [
    "X_train.shape, X_test.shape, y_train.shape, y_test.shape"
   ]
  },
  {
   "cell_type": "code",
   "execution_count": 15,
   "id": "b1f97af3",
   "metadata": {
    "execution": {
     "iopub.execute_input": "2023-01-08T23:59:19.220218Z",
     "iopub.status.busy": "2023-01-08T23:59:19.219748Z",
     "iopub.status.idle": "2023-01-09T00:07:13.999470Z",
     "shell.execute_reply": "2023-01-09T00:07:13.997707Z"
    },
    "papermill": {
     "duration": 474.799183,
     "end_time": "2023-01-09T00:07:14.002765",
     "exception": false,
     "start_time": "2023-01-08T23:59:19.203582",
     "status": "completed"
    },
    "tags": []
   },
   "outputs": [
    {
     "name": "stderr",
     "output_type": "stream",
     "text": [
      "2023-01-08 23:59:20.314272: I tensorflow/core/common_runtime/process_util.cc:146] Creating new thread pool with default inter op setting: 2. Tune using inter_op_parallelism_threads for best performance.\n",
      "2023-01-08 23:59:35.364553: I tensorflow/compiler/mlir/mlir_graph_optimization_pass.cc:185] None of the MLIR Optimization Passes are enabled (registered 2)\n"
     ]
    },
    {
     "name": "stdout",
     "output_type": "stream",
     "text": [
      "Epoch 1/31\n",
      "20/20 [==============================] - 18s 747ms/step - loss: 165036.6250 - accuracy: 0.6719 - val_loss: 16116.8877 - val_accuracy: 0.8938\n",
      "Epoch 2/31\n",
      "20/20 [==============================] - 14s 686ms/step - loss: 20697.2852 - accuracy: 0.8578 - val_loss: 11455.4980 - val_accuracy: 0.9000\n",
      "Epoch 3/31\n",
      "20/20 [==============================] - 13s 671ms/step - loss: 11512.4180 - accuracy: 0.9078 - val_loss: 8079.6396 - val_accuracy: 0.9250\n",
      "Epoch 4/31\n",
      "20/20 [==============================] - 14s 692ms/step - loss: 4906.2812 - accuracy: 0.9422 - val_loss: 4374.8755 - val_accuracy: 0.9312\n",
      "Epoch 5/31\n",
      "20/20 [==============================] - 13s 672ms/step - loss: 1542.9851 - accuracy: 0.9734 - val_loss: 3951.2825 - val_accuracy: 0.9438\n",
      "Epoch 6/31\n",
      "20/20 [==============================] - 14s 695ms/step - loss: 727.3300 - accuracy: 0.9750 - val_loss: 3213.6890 - val_accuracy: 0.9375\n",
      "Epoch 7/31\n",
      "20/20 [==============================] - 13s 671ms/step - loss: 1034.3972 - accuracy: 0.9797 - val_loss: 2605.1938 - val_accuracy: 0.9500\n",
      "Epoch 8/31\n",
      "20/20 [==============================] - 13s 671ms/step - loss: 2265.7012 - accuracy: 0.9500 - val_loss: 6323.9272 - val_accuracy: 0.9125\n",
      "Epoch 9/31\n",
      "20/20 [==============================] - 14s 691ms/step - loss: 6195.7993 - accuracy: 0.8953 - val_loss: 5996.4561 - val_accuracy: 0.9438\n",
      "Epoch 10/31\n",
      "20/20 [==============================] - 13s 672ms/step - loss: 10894.6719 - accuracy: 0.9078 - val_loss: 41800.6055 - val_accuracy: 0.7563\n",
      "Epoch 11/31\n",
      "20/20 [==============================] - 14s 686ms/step - loss: 26691.2344 - accuracy: 0.8672 - val_loss: 25331.9727 - val_accuracy: 0.8687\n",
      "Epoch 12/31\n",
      "20/20 [==============================] - 13s 667ms/step - loss: 7722.6733 - accuracy: 0.9453 - val_loss: 9917.7051 - val_accuracy: 0.9250\n",
      "Epoch 13/31\n",
      "20/20 [==============================] - 13s 674ms/step - loss: 3958.9165 - accuracy: 0.9672 - val_loss: 10270.7754 - val_accuracy: 0.9438\n",
      "Epoch 14/31\n",
      "20/20 [==============================] - 14s 684ms/step - loss: 1006.9082 - accuracy: 0.9859 - val_loss: 4434.5923 - val_accuracy: 0.9625\n",
      "Epoch 15/31\n",
      "20/20 [==============================] - 13s 674ms/step - loss: 3543.6372 - accuracy: 0.9578 - val_loss: 77275.3281 - val_accuracy: 0.7125\n",
      "Epoch 16/31\n",
      "20/20 [==============================] - 14s 688ms/step - loss: 6627.1729 - accuracy: 0.9516 - val_loss: 8559.2656 - val_accuracy: 0.9312\n",
      "Epoch 17/31\n",
      "20/20 [==============================] - 13s 675ms/step - loss: 780.6152 - accuracy: 0.9891 - val_loss: 6484.1924 - val_accuracy: 0.9500\n",
      "Epoch 18/31\n",
      "20/20 [==============================] - 14s 688ms/step - loss: 378.8347 - accuracy: 0.9953 - val_loss: 5806.8325 - val_accuracy: 0.9563\n",
      "Epoch 19/31\n",
      "20/20 [==============================] - 13s 666ms/step - loss: 182.5568 - accuracy: 0.9969 - val_loss: 15420.1279 - val_accuracy: 0.9125\n",
      "Epoch 20/31\n",
      "20/20 [==============================] - 13s 668ms/step - loss: 1569.8748 - accuracy: 0.9812 - val_loss: 11503.1328 - val_accuracy: 0.9438\n",
      "Epoch 21/31\n",
      "20/20 [==============================] - 14s 695ms/step - loss: 3582.0657 - accuracy: 0.9672 - val_loss: 7904.3579 - val_accuracy: 0.9438\n",
      "Epoch 22/31\n",
      "20/20 [==============================] - 16s 821ms/step - loss: 909.5963 - accuracy: 0.9859 - val_loss: 5765.0493 - val_accuracy: 0.9500\n",
      "Epoch 23/31\n",
      "20/20 [==============================] - 17s 844ms/step - loss: 135.1533 - accuracy: 0.9969 - val_loss: 19064.4258 - val_accuracy: 0.9062\n",
      "Epoch 24/31\n",
      "20/20 [==============================] - 17s 836ms/step - loss: 322.7895 - accuracy: 0.9937 - val_loss: 6424.4751 - val_accuracy: 0.9500\n",
      "Epoch 25/31\n",
      "20/20 [==============================] - 17s 834ms/step - loss: 35.6628 - accuracy: 0.9984 - val_loss: 6223.3867 - val_accuracy: 0.9625\n",
      "Epoch 26/31\n",
      "20/20 [==============================] - 16s 823ms/step - loss: 0.0000e+00 - accuracy: 1.0000 - val_loss: 7179.7759 - val_accuracy: 0.9625\n",
      "Epoch 27/31\n",
      "20/20 [==============================] - 17s 848ms/step - loss: 211.6380 - accuracy: 0.9937 - val_loss: 5765.2021 - val_accuracy: 0.9500\n",
      "Epoch 28/31\n",
      "20/20 [==============================] - 20s 1s/step - loss: 240.8792 - accuracy: 0.9953 - val_loss: 8124.1416 - val_accuracy: 0.9438\n",
      "Epoch 29/31\n",
      "20/20 [==============================] - 16s 827ms/step - loss: 0.0000e+00 - accuracy: 1.0000 - val_loss: 6760.2920 - val_accuracy: 0.9500\n",
      "Epoch 30/31\n",
      "20/20 [==============================] - 17s 853ms/step - loss: 0.0000e+00 - accuracy: 1.0000 - val_loss: 6652.6133 - val_accuracy: 0.9500\n",
      "Epoch 31/31\n",
      "20/20 [==============================] - 16s 825ms/step - loss: 0.0000e+00 - accuracy: 1.0000 - val_loss: 6639.2124 - val_accuracy: 0.9500\n"
     ]
    },
    {
     "data": {
      "text/plain": [
       "<keras.callbacks.History at 0x7f53d1202fd0>"
      ]
     },
     "execution_count": 15,
     "metadata": {},
     "output_type": "execute_result"
    }
   ],
   "source": [
    "model = tf.keras.Sequential([\n",
    "tf.keras.layers.Dense(128, activation='relu', input_shape=(model_shape,)),\n",
    "tf.keras.layers.Dense(64, activation='relu'),\n",
    "tf.keras.layers.Dense(32, activation='relu'),\n",
    "tf.keras.layers.Dense(1, activation='sigmoid')\n",
    "])\n",
    "model.compile(optimizer='adam', loss='binary_crossentropy', metrics=['accuracy'])\n",
    "model.fit(X_train, y_train, epochs=31, validation_data=(X_test, y_test))"
   ]
  },
  {
   "cell_type": "code",
   "execution_count": 16,
   "id": "9358a765",
   "metadata": {
    "execution": {
     "iopub.execute_input": "2023-01-09T00:07:14.113727Z",
     "iopub.status.busy": "2023-01-09T00:07:14.113219Z",
     "iopub.status.idle": "2023-01-09T00:07:15.876006Z",
     "shell.execute_reply": "2023-01-09T00:07:15.874991Z"
    },
    "papermill": {
     "duration": 1.822235,
     "end_time": "2023-01-09T00:07:15.878787",
     "exception": false,
     "start_time": "2023-01-09T00:07:14.056552",
     "status": "completed"
    },
    "tags": []
   },
   "outputs": [
    {
     "name": "stdout",
     "output_type": "stream",
     "text": [
      "5/5 [==============================] - 1s 177ms/step - loss: 6639.2124 - accuracy: 0.9500\n",
      "Accuracy: 0.95\n"
     ]
    }
   ],
   "source": [
    "# Оценка точности модели\n",
    "_, accuracy = model.evaluate(X_test, y_test)\n",
    "print(f'Accuracy: {accuracy:.2f}')"
   ]
  },
  {
   "cell_type": "code",
   "execution_count": 17,
   "id": "77733b3b",
   "metadata": {
    "execution": {
     "iopub.execute_input": "2023-01-09T00:07:16.000933Z",
     "iopub.status.busy": "2023-01-09T00:07:16.000504Z",
     "iopub.status.idle": "2023-01-09T00:07:16.363923Z",
     "shell.execute_reply": "2023-01-09T00:07:16.362252Z"
    },
    "papermill": {
     "duration": 0.428772,
     "end_time": "2023-01-09T00:07:16.367037",
     "exception": false,
     "start_time": "2023-01-09T00:07:15.938265",
     "status": "completed"
    },
    "tags": []
   },
   "outputs": [
    {
     "name": "stdout",
     "output_type": "stream",
     "text": [
      "                           _i3:  2.3 KiB\n",
      "                           _i7:  1.4 KiB\n",
      "                           _i8:  1.0 KiB\n",
      "                           _i9:  778.0 B\n",
      "                          _i17:  668.0 B\n",
      "                           _i4:  642.0 B\n",
      "                          _i13:  636.0 B\n",
      "                           _i5:  610.0 B\n",
      "                          _i12:  478.0 B\n",
      "                           _ii:  450.0 B\n"
     ]
    }
   ],
   "source": [
    "# Удалим все лишнее\n",
    "del X_train, X_test, y_train, y_test\n",
    "gc.collect()\n",
    "\n",
    "# Диспетчер переменных, проверим, все ли удалили\n",
    "for name, size in sorted(((name, sys.getsizeof(value)) for name, value in locals().items()),key= lambda x: -x[1])[:10]:\n",
    "    print(\"{:>30}: {:>8}\".format(name, sizeof_fmt(size)))"
   ]
  },
  {
   "cell_type": "markdown",
   "id": "32034398",
   "metadata": {
    "papermill": {
     "duration": 0.054529,
     "end_time": "2023-01-09T00:07:16.476160",
     "exception": false,
     "start_time": "2023-01-09T00:07:16.421631",
     "status": "completed"
    },
    "tags": []
   },
   "source": [
    "# 3.2 Подготовим сет для проверки нашей модели на предоставленных тестовых данных"
   ]
  },
  {
   "cell_type": "code",
   "execution_count": 18,
   "id": "e7bc0204",
   "metadata": {
    "execution": {
     "iopub.execute_input": "2023-01-09T00:07:16.587066Z",
     "iopub.status.busy": "2023-01-09T00:07:16.586667Z",
     "iopub.status.idle": "2023-01-09T00:07:26.248805Z",
     "shell.execute_reply": "2023-01-09T00:07:26.247162Z"
    },
    "papermill": {
     "duration": 9.721962,
     "end_time": "2023-01-09T00:07:26.252402",
     "exception": false,
     "start_time": "2023-01-09T00:07:16.530440",
     "status": "completed"
    },
    "tags": []
   },
   "outputs": [
    {
     "name": "stdout",
     "output_type": "stream",
     "text": [
      "774  of  774  |  onotrkeirxodtyfksqrx.jpg:  (640, 640, 3) ()\r"
     ]
    }
   ],
   "source": [
    "test_images_direct = '/kaggle/input/shift-cv-winter-2023/test/test'\n",
    "\n",
    "test_images_labels = pd.DataFrame()\n",
    "test_images_labels['filename'] = pd.DataFrame(os.listdir(test_images_direct))\n",
    "test_images_labels['blur'] = pd.to_numeric(int(2), downcast='integer')\n",
    "\n",
    "\n",
    "images_test, labels_test = load_images(test_images_labels, test_images_direct)"
   ]
  },
  {
   "cell_type": "code",
   "execution_count": 19,
   "id": "065cb754",
   "metadata": {
    "execution": {
     "iopub.execute_input": "2023-01-09T00:07:26.377161Z",
     "iopub.status.busy": "2023-01-09T00:07:26.376716Z",
     "iopub.status.idle": "2023-01-09T00:09:01.506645Z",
     "shell.execute_reply": "2023-01-09T00:09:01.505400Z"
    },
    "papermill": {
     "duration": 95.195657,
     "end_time": "2023-01-09T00:09:01.510178",
     "exception": false,
     "start_time": "2023-01-09T00:07:26.314521",
     "status": "completed"
    },
    "tags": []
   },
   "outputs": [],
   "source": [
    "lap_data_pred = np.array([lap_features(image_test) for image_test in images_test])\n",
    "fou_data_pred = np.array([fourier_features(image_test) for image_test in images_test])\n",
    "dct_data_pred = np.array([dct_features(image_test) for image_test in images_test])\n",
    "lbp_data_pred = np.array([lbp_features(image_test) for image_test in images_test])\n",
    "\n",
    "# Объединение признаков в единый массив\n",
    "features_pred = np.concatenate([lap_data_pred, fou_data_pred, dct_data_pred, lbp_data_pred], axis=1)"
   ]
  },
  {
   "cell_type": "code",
   "execution_count": 20,
   "id": "ceb9c4b5",
   "metadata": {
    "execution": {
     "iopub.execute_input": "2023-01-09T00:09:01.645282Z",
     "iopub.status.busy": "2023-01-09T00:09:01.644859Z",
     "iopub.status.idle": "2023-01-09T00:09:01.935054Z",
     "shell.execute_reply": "2023-01-09T00:09:01.933416Z"
    },
    "papermill": {
     "duration": 0.36574,
     "end_time": "2023-01-09T00:09:01.939243",
     "exception": false,
     "start_time": "2023-01-09T00:09:01.573503",
     "status": "completed"
    },
    "tags": []
   },
   "outputs": [
    {
     "name": "stdout",
     "output_type": "stream",
     "text": [
      "                 features_pred:  9.4 GiB\n",
      "            test_images_labels: 67.4 KiB\n",
      "                   images_test:  6.9 KiB\n",
      "                   labels_test:  6.9 KiB\n",
      "                           _i3:  2.3 KiB\n",
      "                           _i7:  1.4 KiB\n",
      "                           _i8:  1.0 KiB\n",
      "                            _i:  1.0 KiB\n",
      "                          _i19:  1.0 KiB\n",
      "                           _i9:  778.0 B\n"
     ]
    }
   ],
   "source": [
    "# Удалим все лишнее\n",
    "del lap_data_pred, fou_data_pred, dct_data_pred, lbp_data_pred\n",
    "gc.collect()\n",
    "\n",
    "# Диспетчер переменных, проверим, все ли удалили\n",
    "for name, size in sorted(((name, sys.getsizeof(value)) for name, value in locals().items()),key= lambda x: -x[1])[:10]:\n",
    "    print(\"{:>30}: {:>8}\".format(name, sizeof_fmt(size)))"
   ]
  },
  {
   "cell_type": "markdown",
   "id": "5f5273d8",
   "metadata": {
    "papermill": {
     "duration": 0.064777,
     "end_time": "2023-01-09T00:09:02.073216",
     "exception": false,
     "start_time": "2023-01-09T00:09:02.008439",
     "status": "completed"
    },
    "tags": []
   },
   "source": [
    "# 3.3 Тестируем модель на неизвестных предоставленных данных"
   ]
  },
  {
   "cell_type": "code",
   "execution_count": 21,
   "id": "34349adf",
   "metadata": {
    "execution": {
     "iopub.execute_input": "2023-01-09T00:09:02.205204Z",
     "iopub.status.busy": "2023-01-09T00:09:02.204370Z",
     "iopub.status.idle": "2023-01-09T00:09:12.900573Z",
     "shell.execute_reply": "2023-01-09T00:09:12.899623Z"
    },
    "papermill": {
     "duration": 10.764931,
     "end_time": "2023-01-09T00:09:12.903341",
     "exception": false,
     "start_time": "2023-01-09T00:09:02.138410",
     "status": "completed"
    },
    "tags": []
   },
   "outputs": [],
   "source": [
    "pred = model.predict(features_pred).astype(np.int8)"
   ]
  },
  {
   "cell_type": "markdown",
   "id": "8079d322",
   "metadata": {
    "papermill": {
     "duration": 0.057682,
     "end_time": "2023-01-09T00:09:13.019321",
     "exception": false,
     "start_time": "2023-01-09T00:09:12.961639",
     "status": "completed"
    },
    "tags": []
   },
   "source": [
    "# 4.1 Теперь записываем данные для отправки"
   ]
  },
  {
   "cell_type": "code",
   "execution_count": 22,
   "id": "507b61e6",
   "metadata": {
    "execution": {
     "iopub.execute_input": "2023-01-09T00:09:13.140769Z",
     "iopub.status.busy": "2023-01-09T00:09:13.139347Z",
     "iopub.status.idle": "2023-01-09T00:09:13.151843Z",
     "shell.execute_reply": "2023-01-09T00:09:13.150635Z"
    },
    "papermill": {
     "duration": 0.076799,
     "end_time": "2023-01-09T00:09:13.154547",
     "exception": false,
     "start_time": "2023-01-09T00:09:13.077748",
     "status": "completed"
    },
    "tags": []
   },
   "outputs": [],
   "source": [
    "test_images_labels['blur'] = pred\n",
    "test_images_labels.to_csv('kamuz_bogdan_moscow_submission.csv', index=False)"
   ]
  }
 ],
 "metadata": {
  "kernelspec": {
   "display_name": "Python 3",
   "language": "python",
   "name": "python3"
  },
  "language_info": {
   "codemirror_mode": {
    "name": "ipython",
    "version": 3
   },
   "file_extension": ".py",
   "mimetype": "text/x-python",
   "name": "python",
   "nbconvert_exporter": "python",
   "pygments_lexer": "ipython3",
   "version": "3.7.12"
  },
  "papermill": {
   "default_parameters": {},
   "duration": 723.712319,
   "end_time": "2023-01-09T00:09:17.080524",
   "environment_variables": {},
   "exception": null,
   "input_path": "__notebook__.ipynb",
   "output_path": "__notebook__.ipynb",
   "parameters": {},
   "start_time": "2023-01-08T23:57:13.368205",
   "version": "2.3.4"
  }
 },
 "nbformat": 4,
 "nbformat_minor": 5
}
